{
 "cells": [
  {
   "cell_type": "markdown",
   "id": "ac3c1dc0-62a9-4a25-8c25-a90dfb0b4d4d",
   "metadata": {},
   "source": [
    "# Data Science Tools and Ecosystem"
   ]
  },
  {
   "cell_type": "markdown",
   "id": "ad69c005-8b3f-46de-98bf-067b3531dd29",
   "metadata": {},
   "source": [
    "In this notebook, Data Science Tools and Ecosystem are summarized"
   ]
  },
  {
   "cell_type": "markdown",
   "id": "b29ff4fa-792a-4666-b06f-d09219a3c1cf",
   "metadata": {},
   "source": [
    "Some of the popular languages that Data Scientists use are:\n",
    "- Python\n",
    "- R\n",
    "- SQL"
   ]
  },
  {
   "cell_type": "markdown",
   "id": "14af3c41-d0f5-4e4a-9fe0-9e530bd39ea3",
   "metadata": {},
   "source": [
    "Some of the commonly used libraries used by Data Scientist include:\n",
    "- Pandas\n",
    "- Numpy\n",
    "- ggplot2"
   ]
  },
  {
   "cell_type": "markdown",
   "id": "8fe01227-1a39-4dec-8316-d6bac9b24327",
   "metadata": {},
   "source": [
    "|Data Science Tools|\n",
    "|---|\n",
    "|Oracle Database|\n",
    "|Tableau|\n",
    "|PowerBI|"
   ]
  },
  {
   "cell_type": "markdown",
   "id": "0db36ffc-fa93-4558-a2c3-73c8da487e7e",
   "metadata": {},
   "source": [
    "### Below are a few examples of evaluating arithmetic expressions in python "
   ]
  },
  {
   "cell_type": "code",
   "execution_count": 2,
   "id": "16145a48-572f-4288-8f7d-96f260a6ccd7",
   "metadata": {
    "scrolled": true
   },
   "outputs": [
    {
     "data": {
      "text/plain": [
       "17"
      ]
     },
     "execution_count": 2,
     "metadata": {},
     "output_type": "execute_result"
    }
   ],
   "source": [
    "# This is a simple arithmetic expression to multiply then add integers \n",
    "(3*4)+5"
   ]
  },
  {
   "cell_type": "code",
   "execution_count": 4,
   "id": "17370467-cd56-4852-bd66-45fc8ce6aae9",
   "metadata": {},
   "outputs": [
    {
     "name": "stdout",
     "output_type": "stream",
     "text": [
      "3.3333333333333335 hours\n"
     ]
    }
   ],
   "source": [
    "# This will convert 200 minutes to hours by diving by 60\n",
    "print(str(200/60)+' hours')"
   ]
  },
  {
   "cell_type": "markdown",
   "id": "6990431b-3a51-4ff7-83f9-1b71e61d21ae",
   "metadata": {},
   "source": [
    "Objectives:\n",
    "- List popular languages for Data Science\n",
    "- Convert minutes into hours\n",
    "- List popular tools for Data Science "
   ]
  },
  {
   "cell_type": "markdown",
   "id": "62cc646c-cc81-4288-b538-066e4cb1f43b",
   "metadata": {},
   "source": [
    "## Author\n",
    "Kelly"
   ]
  },
  {
   "cell_type": "code",
   "execution_count": null,
   "id": "23ce0fce-a381-4d14-9480-972b525c9127",
   "metadata": {},
   "outputs": [],
   "source": []
  }
 ],
 "metadata": {
  "kernelspec": {
   "display_name": "Python 3 (ipykernel)",
   "language": "python",
   "name": "python3"
  },
  "language_info": {
   "codemirror_mode": {
    "name": "ipython",
    "version": 3
   },
   "file_extension": ".py",
   "mimetype": "text/x-python",
   "name": "python",
   "nbconvert_exporter": "python",
   "pygments_lexer": "ipython3",
   "version": "3.12.2"
  }
 },
 "nbformat": 4,
 "nbformat_minor": 5
}
